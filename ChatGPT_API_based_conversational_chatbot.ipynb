{
  "nbformat": 4,
  "nbformat_minor": 0,
  "metadata": {
    "colab": {
      "provenance": []
    },
    "kernelspec": {
      "name": "python3",
      "display_name": "Python 3"
    },
    "language_info": {
      "name": "python"
    }
  },
  "cells": [
    {
      "cell_type": "code",
      "execution_count": 1,
      "metadata": {
        "colab": {
          "base_uri": "https://localhost:8080/"
        },
        "id": "hlf9jP7J2a5T",
        "outputId": "cc8956d0-1401-400c-9777-754537d4770b"
      },
      "outputs": [
        {
          "output_type": "stream",
          "name": "stdout",
          "text": [
            "Looking in indexes: https://pypi.org/simple, https://us-python.pkg.dev/colab-wheels/public/simple/\n",
            "Collecting openai\n",
            "  Downloading openai-0.27.0-py3-none-any.whl (70 kB)\n",
            "\u001b[2K     \u001b[90m━━━━━━━━━━━━━━━━━━━━━━━━━━━━━━━━━━━━━━━━\u001b[0m \u001b[32m70.1/70.1 KB\u001b[0m \u001b[31m2.1 MB/s\u001b[0m eta \u001b[36m0:00:00\u001b[0m\n",
            "\u001b[?25hRequirement already satisfied: tqdm in /usr/local/lib/python3.8/dist-packages (from openai) (4.64.1)\n",
            "Requirement already satisfied: aiohttp in /usr/local/lib/python3.8/dist-packages (from openai) (3.8.4)\n",
            "Requirement already satisfied: requests>=2.20 in /usr/local/lib/python3.8/dist-packages (from openai) (2.25.1)\n",
            "Requirement already satisfied: idna<3,>=2.5 in /usr/local/lib/python3.8/dist-packages (from requests>=2.20->openai) (2.10)\n",
            "Requirement already satisfied: certifi>=2017.4.17 in /usr/local/lib/python3.8/dist-packages (from requests>=2.20->openai) (2022.12.7)\n",
            "Requirement already satisfied: chardet<5,>=3.0.2 in /usr/local/lib/python3.8/dist-packages (from requests>=2.20->openai) (4.0.0)\n",
            "Requirement already satisfied: urllib3<1.27,>=1.21.1 in /usr/local/lib/python3.8/dist-packages (from requests>=2.20->openai) (1.26.14)\n",
            "Requirement already satisfied: attrs>=17.3.0 in /usr/local/lib/python3.8/dist-packages (from aiohttp->openai) (22.2.0)\n",
            "Requirement already satisfied: aiosignal>=1.1.2 in /usr/local/lib/python3.8/dist-packages (from aiohttp->openai) (1.3.1)\n",
            "Requirement already satisfied: multidict<7.0,>=4.5 in /usr/local/lib/python3.8/dist-packages (from aiohttp->openai) (6.0.4)\n",
            "Requirement already satisfied: async-timeout<5.0,>=4.0.0a3 in /usr/local/lib/python3.8/dist-packages (from aiohttp->openai) (4.0.2)\n",
            "Requirement already satisfied: frozenlist>=1.1.1 in /usr/local/lib/python3.8/dist-packages (from aiohttp->openai) (1.3.3)\n",
            "Requirement already satisfied: yarl<2.0,>=1.0 in /usr/local/lib/python3.8/dist-packages (from aiohttp->openai) (1.8.2)\n",
            "Requirement already satisfied: charset-normalizer<4.0,>=2.0 in /usr/local/lib/python3.8/dist-packages (from aiohttp->openai) (3.0.1)\n",
            "Installing collected packages: openai\n",
            "Successfully installed openai-0.27.0\n"
          ]
        }
      ],
      "source": [
        "!pip install openai"
      ]
    },
    {
      "cell_type": "code",
      "source": [
        "import openai\n",
        "openai.api_key = 'your-api-key'"
      ],
      "metadata": {
        "id": "rXf5mMSpcNU7"
      },
      "execution_count": 4,
      "outputs": []
    },
    {
      "cell_type": "code",
      "source": [
        "response = openai.ChatCompletion.create(\n",
        "  model=\"gpt-3.5-turbo\",\n",
        "  messages=[\n",
        "        {\"role\": \"system\", \"content\": \"You are a helpful AI Tutor.\"},\n",
        "        {\"role\": \"user\", \"content\": \"I am Taaha, I want to learn AI\"},\n",
        "        {\"role\": \"assistant\", \"content\": \"Hello, Taaha thats awesome, what do you want to know aboout AI\"},\n",
        "        {\"role\": \"user\", \"content\": \"What is NLP?\"}\n",
        "    ]\n",
        ")"
      ],
      "metadata": {
        "id": "1HLTa5vFeR0U"
      },
      "execution_count": 5,
      "outputs": []
    },
    {
      "cell_type": "code",
      "source": [
        "response"
      ],
      "metadata": {
        "colab": {
          "base_uri": "https://localhost:8080/"
        },
        "id": "4djSdB_Ke3DG",
        "outputId": "c7fc5100-7be1-47f4-f7f5-0db585393e97"
      },
      "execution_count": 6,
      "outputs": [
        {
          "output_type": "execute_result",
          "data": {
            "text/plain": [
              "<OpenAIObject chat.completion id=chatcmpl-6qPA2w2vMbHh3UsDKpYOlw84nxZUJ at 0x7f3367f48220> JSON: {\n",
              "  \"choices\": [\n",
              "    {\n",
              "      \"finish_reason\": \"stop\",\n",
              "      \"index\": 0,\n",
              "      \"message\": {\n",
              "        \"content\": \"NLP stands for Natural Language Processing. It is a subfield of artificial intelligence and computer science that focuses on the ability of machines to understand, interpret, and generate human language. NLP involves the use of computational algorithms to analyze, understand, and extract meaning from human language data, such as text, speech, and images. NLP has many practical applications, including language translation, sentiment analysis, chatbots, voice assistants, and text summarization. It is a rapidly growing field with many exciting opportunities for research and development.\",\n",
              "        \"role\": \"assistant\"\n",
              "      }\n",
              "    }\n",
              "  ],\n",
              "  \"created\": 1677947794,\n",
              "  \"id\": \"chatcmpl-6qPA2w2vMbHh3UsDKpYOlw84nxZUJ\",\n",
              "  \"model\": \"gpt-3.5-turbo-0301\",\n",
              "  \"object\": \"chat.completion\",\n",
              "  \"usage\": {\n",
              "    \"completion_tokens\": 108,\n",
              "    \"prompt_tokens\": 61,\n",
              "    \"total_tokens\": 169\n",
              "  }\n",
              "}"
            ]
          },
          "metadata": {},
          "execution_count": 6
        }
      ]
    },
    {
      "cell_type": "code",
      "source": [
        "response['choices'][0][\"message\"]"
      ],
      "metadata": {
        "colab": {
          "base_uri": "https://localhost:8080/"
        },
        "id": "-CTdIhU0e5Mh",
        "outputId": "c8ddab7e-ebb7-4f87-859a-35cc60fec3f7"
      },
      "execution_count": 10,
      "outputs": [
        {
          "output_type": "execute_result",
          "data": {
            "text/plain": [
              "<OpenAIObject at 0x7f3367f52c70> JSON: {\n",
              "  \"content\": \"NLP stands for Natural Language Processing. It is a subfield of artificial intelligence and computer science that focuses on the ability of machines to understand, interpret, and generate human language. NLP involves the use of computational algorithms to analyze, understand, and extract meaning from human language data, such as text, speech, and images. NLP has many practical applications, including language translation, sentiment analysis, chatbots, voice assistants, and text summarization. It is a rapidly growing field with many exciting opportunities for research and development.\",\n",
              "  \"role\": \"assistant\"\n",
              "}"
            ]
          },
          "metadata": {},
          "execution_count": 10
        }
      ]
    },
    {
      "cell_type": "code",
      "source": [
        "def update_chat(messages, role, content):\n",
        "  messages.append({\"role\": role, \"content\": content})\n",
        "  return messages"
      ],
      "metadata": {
        "id": "Mt_3TvUYfidS"
      },
      "execution_count": 11,
      "outputs": []
    },
    {
      "cell_type": "code",
      "source": [
        "def get_chatgpt_response(messages):\n",
        "  response = openai.ChatCompletion.create(\n",
        "  model=\"gpt-3.5-turbo\",\n",
        "  messages=messages\n",
        ")\n",
        "  return  response['choices'][0]['message']['content']"
      ],
      "metadata": {
        "id": "ag2U2Y_CjWX6"
      },
      "execution_count": 12,
      "outputs": []
    },
    {
      "cell_type": "code",
      "source": [
        "import pprint\n",
        "\n",
        "messages=[\n",
        "      {\"role\": \"system\", \"content\": \"You are a helpful AI Tutor.\"},\n",
        "      {\"role\": \"user\", \"content\": \"I am Taaha, I want to learn AI\"},\n",
        "      {\"role\": \"assistant\", \"content\": \"Hello, Taaha thats awesome, what do you want to know aboout AI\"},\n",
        "  ]\n",
        "\n",
        "while True:\n",
        "  pprint.pprint(messages)\n",
        "  user_input = input()\n",
        "  messages = update_chat(messages, \"user\", user_input)\n",
        "  model_response = get_chatgpt_response(messages)\n",
        "  messages = update_chat(messages, \"assistant\", model_response)"
      ],
      "metadata": {
        "colab": {
          "base_uri": "https://localhost:8080/",
          "height": 1000
        },
        "id": "dpT3sDX1jYjx",
        "outputId": "b4f46689-e4c0-4cf3-cfca-a904d5b516c6"
      },
      "execution_count": 13,
      "outputs": [
        {
          "output_type": "stream",
          "name": "stdout",
          "text": [
            "[{'content': 'You are a helpful AI Tutor.', 'role': 'system'},\n",
            " {'content': 'I am Taaha, I want to learn AI', 'role': 'user'},\n",
            " {'content': 'Hello, Taaha thats awesome, what do you want to know aboout AI',\n",
            "  'role': 'assistant'}]\n",
            "I am intreredted in NLP\n",
            "[{'content': 'You are a helpful AI Tutor.', 'role': 'system'},\n",
            " {'content': 'I am Taaha, I want to learn AI', 'role': 'user'},\n",
            " {'content': 'Hello, Taaha thats awesome, what do you want to know aboout AI',\n",
            "  'role': 'assistant'},\n",
            " {'content': 'I am intreredted in NLP', 'role': 'user'},\n",
            " {'content': 'Great! Natural Language Processing (NLP) is an important field '\n",
            "             'in AI that focuses on teaching machines to understand and '\n",
            "             'process human language. To get started, you will need to learn '\n",
            "             'the basics of programming, statistics and machine learning. Here '\n",
            "             'are some important steps to help you get started:\\n'\n",
            "             '\\n'\n",
            "             '1. Learn a programming language, such as Python or Java. Python '\n",
            "             'is popular among NLP developers.\\n'\n",
            "             '\\n'\n",
            "             '2. Get familiar with NLP libraries, such as NLTK (Natural '\n",
            "             'Language Toolkit), spacy, gensim, and others.\\n'\n",
            "             '\\n'\n",
            "             '3. Learn and experiment with different NLP techniques and '\n",
            "             'algorithms. This includes understanding the basics of text '\n",
            "             'pre-processing, feature extraction, tokenization, part-of-speech '\n",
            "             'tagging, sentiment analysis, and more.\\n'\n",
            "             '\\n'\n",
            "             '4. Practice with different datasets to gain experience in text '\n",
            "             'processing and natural language understanding. Kaggle is a great '\n",
            "             'platform to find NLP datasets to work on.\\n'\n",
            "             '\\n'\n",
            "             '5. Keep updated with the latest research and trends in the field '\n",
            "             'of NLP by reading research papers, blogs, and attending '\n",
            "             'conferences.\\n'\n",
            "             '\\n'\n",
            "             '6. Collaborate with other NLP enthusiasts to work on projects '\n",
            "             'together and learn from each other.\\n'\n",
            "             '\\n'\n",
            "             'Remember, learning NLP takes time and practice, but it can be a '\n",
            "             'rewarding and exciting field to work in.',\n",
            "  'role': 'assistant'}]\n",
            "can you elaborate point 6\n",
            "[{'content': 'You are a helpful AI Tutor.', 'role': 'system'},\n",
            " {'content': 'I am Taaha, I want to learn AI', 'role': 'user'},\n",
            " {'content': 'Hello, Taaha thats awesome, what do you want to know aboout AI',\n",
            "  'role': 'assistant'},\n",
            " {'content': 'I am intreredted in NLP', 'role': 'user'},\n",
            " {'content': 'Great! Natural Language Processing (NLP) is an important field '\n",
            "             'in AI that focuses on teaching machines to understand and '\n",
            "             'process human language. To get started, you will need to learn '\n",
            "             'the basics of programming, statistics and machine learning. Here '\n",
            "             'are some important steps to help you get started:\\n'\n",
            "             '\\n'\n",
            "             '1. Learn a programming language, such as Python or Java. Python '\n",
            "             'is popular among NLP developers.\\n'\n",
            "             '\\n'\n",
            "             '2. Get familiar with NLP libraries, such as NLTK (Natural '\n",
            "             'Language Toolkit), spacy, gensim, and others.\\n'\n",
            "             '\\n'\n",
            "             '3. Learn and experiment with different NLP techniques and '\n",
            "             'algorithms. This includes understanding the basics of text '\n",
            "             'pre-processing, feature extraction, tokenization, part-of-speech '\n",
            "             'tagging, sentiment analysis, and more.\\n'\n",
            "             '\\n'\n",
            "             '4. Practice with different datasets to gain experience in text '\n",
            "             'processing and natural language understanding. Kaggle is a great '\n",
            "             'platform to find NLP datasets to work on.\\n'\n",
            "             '\\n'\n",
            "             '5. Keep updated with the latest research and trends in the field '\n",
            "             'of NLP by reading research papers, blogs, and attending '\n",
            "             'conferences.\\n'\n",
            "             '\\n'\n",
            "             '6. Collaborate with other NLP enthusiasts to work on projects '\n",
            "             'together and learn from each other.\\n'\n",
            "             '\\n'\n",
            "             'Remember, learning NLP takes time and practice, but it can be a '\n",
            "             'rewarding and exciting field to work in.',\n",
            "  'role': 'assistant'},\n",
            " {'content': 'can you elaborate point 6', 'role': 'user'},\n",
            " {'content': 'Certainly! Collaboration is important in any field of study, and '\n",
            "             'NLP is no exception. By collaborating with others, you can work '\n",
            "             \"on more complex projects and learn from each other's \"\n",
            "             'experiences.\\n'\n",
            "             '\\n'\n",
            "             'Here are some ways to collaborate with other NLP enthusiasts:\\n'\n",
            "             '\\n'\n",
            "             '1. Join online communities: There are many online forums, '\n",
            "             'groups, and communities dedicated to NLP. Joining these '\n",
            "             'communities will allow you to share ideas, ask questions, and '\n",
            "             'connect with other like-minded individuals.\\n'\n",
            "             '\\n'\n",
            "             '2. Attend meetups and conferences: Attending local meetups and '\n",
            "             'conferences can be a great way to connect with other NLP '\n",
            "             'enthusiasts in your area. These events often have speakers and '\n",
            "             'workshops that can help you learn new techniques and gain new '\n",
            "             'perspectives.\\n'\n",
            "             '\\n'\n",
            "             '3. Work on open-source projects: Contributing to open-source NLP '\n",
            "             'projects can help you gain experience and work with others in a '\n",
            "             'collaborative environment. It also allows you to contribute to a '\n",
            "             'larger project that benefits the entire community.\\n'\n",
            "             '\\n'\n",
            "             '4. Start a project with others: You can also start a project '\n",
            "             'with other NLP enthusiasts to work on a shared goal. This can be '\n",
            "             'a great way to learn from others, and to work on a project that '\n",
            "             'is bigger than what you could achieve alone.\\n'\n",
            "             '\\n'\n",
            "             'Remember, building relationships with other NLP enthusiasts can '\n",
            "             'be a valuable asset throughout your career. Not only can you '\n",
            "             'learn from others, but you can also gain new perspectives and '\n",
            "             'insights that can help you grow as a professional.',\n",
            "  'role': 'assistant'}]\n"
          ]
        },
        {
          "output_type": "error",
          "ename": "KeyboardInterrupt",
          "evalue": "ignored",
          "traceback": [
            "\u001b[0;31m---------------------------------------------------------------------------\u001b[0m",
            "\u001b[0;31mKeyboardInterrupt\u001b[0m                         Traceback (most recent call last)",
            "\u001b[0;32m<ipython-input-13-55ed76a367e0>\u001b[0m in \u001b[0;36m<module>\u001b[0;34m\u001b[0m\n\u001b[1;32m      9\u001b[0m \u001b[0;32mwhile\u001b[0m \u001b[0;32mTrue\u001b[0m\u001b[0;34m:\u001b[0m\u001b[0;34m\u001b[0m\u001b[0;34m\u001b[0m\u001b[0m\n\u001b[1;32m     10\u001b[0m   \u001b[0mpprint\u001b[0m\u001b[0;34m.\u001b[0m\u001b[0mpprint\u001b[0m\u001b[0;34m(\u001b[0m\u001b[0mmessages\u001b[0m\u001b[0;34m)\u001b[0m\u001b[0;34m\u001b[0m\u001b[0;34m\u001b[0m\u001b[0m\n\u001b[0;32m---> 11\u001b[0;31m   \u001b[0muser_input\u001b[0m \u001b[0;34m=\u001b[0m \u001b[0minput\u001b[0m\u001b[0;34m(\u001b[0m\u001b[0;34m)\u001b[0m\u001b[0;34m\u001b[0m\u001b[0;34m\u001b[0m\u001b[0m\n\u001b[0m\u001b[1;32m     12\u001b[0m   \u001b[0mmessages\u001b[0m \u001b[0;34m=\u001b[0m \u001b[0mupdate_chat\u001b[0m\u001b[0;34m(\u001b[0m\u001b[0mmessages\u001b[0m\u001b[0;34m,\u001b[0m \u001b[0;34m\"user\"\u001b[0m\u001b[0;34m,\u001b[0m \u001b[0muser_input\u001b[0m\u001b[0;34m)\u001b[0m\u001b[0;34m\u001b[0m\u001b[0;34m\u001b[0m\u001b[0m\n\u001b[1;32m     13\u001b[0m   \u001b[0mmodel_response\u001b[0m \u001b[0;34m=\u001b[0m \u001b[0mget_chatgpt_response\u001b[0m\u001b[0;34m(\u001b[0m\u001b[0mmessages\u001b[0m\u001b[0;34m)\u001b[0m\u001b[0;34m\u001b[0m\u001b[0;34m\u001b[0m\u001b[0m\n",
            "\u001b[0;32m/usr/local/lib/python3.8/dist-packages/ipykernel/kernelbase.py\u001b[0m in \u001b[0;36mraw_input\u001b[0;34m(self, prompt)\u001b[0m\n\u001b[1;32m    858\u001b[0m                 \u001b[0;34m\"raw_input was called, but this frontend does not support input requests.\"\u001b[0m\u001b[0;34m\u001b[0m\u001b[0;34m\u001b[0m\u001b[0m\n\u001b[1;32m    859\u001b[0m             )\n\u001b[0;32m--> 860\u001b[0;31m         return self._input_request(str(prompt),\n\u001b[0m\u001b[1;32m    861\u001b[0m             \u001b[0mself\u001b[0m\u001b[0;34m.\u001b[0m\u001b[0m_parent_ident\u001b[0m\u001b[0;34m,\u001b[0m\u001b[0;34m\u001b[0m\u001b[0;34m\u001b[0m\u001b[0m\n\u001b[1;32m    862\u001b[0m             \u001b[0mself\u001b[0m\u001b[0;34m.\u001b[0m\u001b[0m_parent_header\u001b[0m\u001b[0;34m,\u001b[0m\u001b[0;34m\u001b[0m\u001b[0;34m\u001b[0m\u001b[0m\n",
            "\u001b[0;32m/usr/local/lib/python3.8/dist-packages/ipykernel/kernelbase.py\u001b[0m in \u001b[0;36m_input_request\u001b[0;34m(self, prompt, ident, parent, password)\u001b[0m\n\u001b[1;32m    902\u001b[0m             \u001b[0;32mexcept\u001b[0m \u001b[0mKeyboardInterrupt\u001b[0m\u001b[0;34m:\u001b[0m\u001b[0;34m\u001b[0m\u001b[0;34m\u001b[0m\u001b[0m\n\u001b[1;32m    903\u001b[0m                 \u001b[0;31m# re-raise KeyboardInterrupt, to truncate traceback\u001b[0m\u001b[0;34m\u001b[0m\u001b[0;34m\u001b[0m\u001b[0;34m\u001b[0m\u001b[0m\n\u001b[0;32m--> 904\u001b[0;31m                 \u001b[0;32mraise\u001b[0m \u001b[0mKeyboardInterrupt\u001b[0m\u001b[0;34m(\u001b[0m\u001b[0;34m\"Interrupted by user\"\u001b[0m\u001b[0;34m)\u001b[0m \u001b[0;32mfrom\u001b[0m \u001b[0;32mNone\u001b[0m\u001b[0;34m\u001b[0m\u001b[0;34m\u001b[0m\u001b[0m\n\u001b[0m\u001b[1;32m    905\u001b[0m             \u001b[0;32mexcept\u001b[0m \u001b[0mException\u001b[0m \u001b[0;32mas\u001b[0m \u001b[0me\u001b[0m\u001b[0;34m:\u001b[0m\u001b[0;34m\u001b[0m\u001b[0;34m\u001b[0m\u001b[0m\n\u001b[1;32m    906\u001b[0m                 \u001b[0mself\u001b[0m\u001b[0;34m.\u001b[0m\u001b[0mlog\u001b[0m\u001b[0;34m.\u001b[0m\u001b[0mwarning\u001b[0m\u001b[0;34m(\u001b[0m\u001b[0;34m\"Invalid Message:\"\u001b[0m\u001b[0;34m,\u001b[0m \u001b[0mexc_info\u001b[0m\u001b[0;34m=\u001b[0m\u001b[0;32mTrue\u001b[0m\u001b[0;34m)\u001b[0m\u001b[0;34m\u001b[0m\u001b[0;34m\u001b[0m\u001b[0m\n",
            "\u001b[0;31mKeyboardInterrupt\u001b[0m: Interrupted by user"
          ]
        }
      ]
    },
    {
      "cell_type": "markdown",
      "source": [
        "Above message is not an error but conversation was terminated by user"
      ],
      "metadata": {
        "id": "E6M5i3gBks4i"
      }
    }
  ]
}